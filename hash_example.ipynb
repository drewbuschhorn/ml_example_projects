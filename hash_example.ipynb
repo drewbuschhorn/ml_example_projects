{
 "cells": [
  {
   "cell_type": "code",
   "execution_count": 19,
   "metadata": {
    "collapsed": true
   },
   "outputs": [],
   "source": [
    "import numpy as np"
   ]
  },
  {
   "cell_type": "code",
   "execution_count": 27,
   "metadata": {
    "collapsed": false
   },
   "outputs": [
    {
     "name": "stdout",
     "output_type": "stream",
     "text": [
      "['four' 'six' 'seven' 'one' 'nine' 'five' 'eight' 'ten'] ['three' 'two']\n"
     ]
    }
   ],
   "source": [
    "data = [\"one\",\"two\",\"three\",\"four\",\"five\",\"six\",\"seven\",\"eight\",\"nine\",\"ten\"]\n",
    "shuffled = np.random.permutation(data)\n",
    "print (shuffled[0:int(len(shuffled)*0.8)],shuffled[int(len(shuffled)*0.8):])"
   ]
  },
  {
   "cell_type": "code",
   "execution_count": 28,
   "metadata": {
    "collapsed": false
   },
   "outputs": [
    {
     "name": "stdout",
     "output_type": "stream",
     "text": [
      "['six' 'seven' 'ten' 'eight' 'three' 'five' 'nine' 'two'] ['four' 'one']\n"
     ]
    }
   ],
   "source": [
    "data = [\"one\",\"two\",\"three\",\"four\",\"five\",\"six\",\"seven\",\"eight\",\"nine\",\"ten\"]\n",
    "shuffled = np.random.permutation(data)\n",
    "print (shuffled[0:int(len(shuffled)*0.8)],shuffled[int(len(shuffled)*0.8):])"
   ]
  },
  {
   "cell_type": "code",
   "execution_count": 29,
   "metadata": {
    "collapsed": false
   },
   "outputs": [
    {
     "name": "stdout",
     "output_type": "stream",
     "text": [
      "['five' 'four' 'one' 'six' 'eight' 'seven' 'three' 'nine'] ['ten' 'two']\n"
     ]
    }
   ],
   "source": [
    "np.random.seed(0xDEAD)\n",
    "data = [\"one\",\"two\",\"three\",\"four\",\"five\",\"six\",\"seven\",\"eight\",\"nine\",\"ten\"]\n",
    "shuffled = np.random.permutation(data)\n",
    "print (shuffled[0:int(len(shuffled)*0.8)],shuffled[int(len(shuffled)*0.8):])"
   ]
  },
  {
   "cell_type": "code",
   "execution_count": 30,
   "metadata": {
    "collapsed": false
   },
   "outputs": [
    {
     "name": "stdout",
     "output_type": "stream",
     "text": [
      "['five' 'four' 'one' 'six' 'eight' 'seven' 'three' 'nine'] ['ten' 'two']\n"
     ]
    }
   ],
   "source": [
    "np.random.seed(0xDEAD)\n",
    "data = [\"one\",\"two\",\"three\",\"four\",\"five\",\"six\",\"seven\",\"eight\",\"nine\",\"ten\"]\n",
    "shuffled = np.random.permutation(data)\n",
    "print (shuffled[0:int(len(shuffled)*0.8)],shuffled[int(len(shuffled)*0.8):])"
   ]
  },
  {
   "cell_type": "code",
   "execution_count": 33,
   "metadata": {
    "collapsed": false
   },
   "outputs": [
    {
     "name": "stdout",
     "output_type": "stream",
     "text": [
      "['four' 'three' 'fifteen' 'seven' 'two' 'twelve' 'thirteen' 'nine' 'six'\n",
      " 'eight' 'fouteen' 'one' 'five' 'sixteen' 'ten' 'seventeen'] ['eleven' 'nineteen' 'twenty' 'eighteen']\n"
     ]
    }
   ],
   "source": [
    "np.random.seed(0xDEAD)\n",
    "data = [\"one\",\"two\",\"three\",\"four\",\"five\",\"six\",\"seven\",\"eight\",\"nine\",\"ten\", \n",
    "        \"eleven\", \"twelve\",\"thirteen\",\"fouteen\", \"fifteen\", \"sixteen\", \"seventeen\", \"eighteen\", \"nineteen\", \"twenty\"]\n",
    "shuffled = np.random.permutation(data)\n",
    "print (shuffled[0:int(len(shuffled)*0.8)],shuffled[int(len(shuffled)*0.8):])"
   ]
  },
  {
   "cell_type": "code",
   "execution_count": 59,
   "metadata": {
    "collapsed": false
   },
   "outputs": [
    {
     "name": "stdout",
     "output_type": "stream",
     "text": [
      "{0: ['ten', 'nine', 'six'], 1: ['two', 'one'], 2: ['four'], 3: ['eight', 'seven', 'five'], 4: ['three']}\n",
      "\n",
      "train: ['ten', 'nine', 'six', 'two', 'one', 'eight', 'seven', 'five']\n",
      "test: ['four', 'three']\n"
     ]
    }
   ],
   "source": [
    "hash_bins = { 0: [], 1: [], 2: [], 3: [], 4: [] }\n",
    "def my_simple_hash(item):\n",
    "    hash_bin_for_item = ord(item[2]) % 5\n",
    "    hash_bins[hash_bin_for_item].insert(0,item)\n",
    "\n",
    "data = [\"one\",\"two\",\"three\",\"four\",\"five\",\"six\",\"seven\",\"eight\",\"nine\",\"ten\"]\n",
    "for i in data:\n",
    "    my_simple_hash(i)\n",
    "print (hash_bins)\n",
    "print ()\n",
    "print (\"train:\", hash_bins[0]+hash_bins[1]+hash_bins[3])\n",
    "print (\"test:\", hash_bins[2]+hash_bins[4])"
   ]
  },
  {
   "cell_type": "code",
   "execution_count": 60,
   "metadata": {
    "collapsed": false
   },
   "outputs": [
    {
     "name": "stdout",
     "output_type": "stream",
     "text": [
      "{0: ['nineteen', 'sixteen', 'thirteen', 'ten', 'nine', 'six'], 1: ['twenty', 'twelve', 'eleven', 'two', 'one'], 2: ['fifteen', 'fouteen', 'four'], 3: ['eighteen', 'seventeen', 'eight', 'seven', 'five'], 4: ['three']}\n",
      "\n",
      "train: ['nineteen', 'sixteen', 'thirteen', 'ten', 'nine', 'six', 'twenty', 'twelve', 'eleven', 'two', 'one', 'eighteen', 'seventeen', 'eight', 'seven', 'five']\n",
      "test: ['fifteen', 'fouteen', 'four', 'three']\n"
     ]
    }
   ],
   "source": [
    "hash_bins = { 0: [], 1: [], 2: [], 3: [], 4: [] }\n",
    "def my_simple_hash(item):\n",
    "    hash_bin_for_item = ord(item[2]) % 5\n",
    "    hash_bins[hash_bin_for_item].insert(0,item)\n",
    "\n",
    "data = [\"one\",\"two\",\"three\",\"four\",\"five\",\"six\",\"seven\",\"eight\",\"nine\",\"ten\", \n",
    "        \"eleven\", \"twelve\",\"thirteen\",\"fouteen\", \"fifteen\", \"sixteen\", \"seventeen\", \"eighteen\", \"nineteen\", \"twenty\"]\n",
    "for i in data:\n",
    "    my_simple_hash(i)\n",
    "print (hash_bins)\n",
    "print ()\n",
    "print (\"train:\", hash_bins[0]+hash_bins[1]+hash_bins[3])\n",
    "print (\"test:\", hash_bins[2]+hash_bins[4])"
   ]
  }
 ],
 "metadata": {
  "anaconda-cloud": {},
  "kernelspec": {
   "display_name": "Python [conda env:tensorflow]",
   "language": "python",
   "name": "conda-env-tensorflow-py"
  },
  "language_info": {
   "codemirror_mode": {
    "name": "ipython",
    "version": 3
   },
   "file_extension": ".py",
   "mimetype": "text/x-python",
   "name": "python",
   "nbconvert_exporter": "python",
   "pygments_lexer": "ipython3",
   "version": "3.5.4"
  }
 },
 "nbformat": 4,
 "nbformat_minor": 1
}
