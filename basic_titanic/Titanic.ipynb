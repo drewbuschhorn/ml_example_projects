{
 "cells": [
  {
   "cell_type": "code",
   "execution_count": null,
   "metadata": {
    "collapsed": false
   },
   "outputs": [],
   "source": [
    "%matplotlib inline\n",
    "import utils; reload(utils)\n",
    "from utils import *\n",
    "import re\n",
    "from __future__ import division, print_function"
   ]
  },
  {
   "cell_type": "code",
   "execution_count": null,
   "metadata": {
    "collapsed": false
   },
   "outputs": [],
   "source": [
    "import pandas\n",
    "titanic_csv = pandas.read_csv('data/titanic/train.csv')\n",
    "titanic_csv"
   ]
  },
  {
   "cell_type": "code",
   "execution_count": null,
   "metadata": {
    "collapsed": false
   },
   "outputs": [],
   "source": [
    "adjusted_titanic_csv = titanic_csv.copy()\n",
    "average_age = np.round((np.sum(adjusted_titanic_csv['Age'])/len(adjusted_titanic_csv['Age'])))\n",
    "print (\"average_age:\",average_age)\n",
    "print (\"average_survival\", np.sum(adjusted_titanic_csv['Survived'])/len(adjusted_titanic_csv['Survived']))\n",
    "\n",
    "for i in xrange(0, len(adjusted_titanic_csv['Age'])):\n",
    "    if np.isnan(adjusted_titanic_csv.at[i,'Age']):\n",
    "        adjusted_titanic_csv.at[i,'Age'] = average_age\n",
    "        \n",
    "adjusted_titanic_csv = adjusted_titanic_csv[adjusted_titanic_csv.columns[[2,4,5,6,7,9,11,1]]]\n",
    "adjusted_titanic_csv['Sex'] = map(lambda x: 1 if x=='male' else 0, adjusted_titanic_csv['Sex'])\n",
    "\n",
    "embarkedConversion = {\n",
    "    'S': 0,\n",
    "    'C': 1,\n",
    "    'Q': 2,\n",
    "    'nan' : 3,\n",
    "}\n",
    "adjusted_titanic_csv['Embarked'] = map(lambda x: embarkedConversion[x] if type(x)==str else 3, adjusted_titanic_csv['Embarked'])\n",
    "adjusted_titanic_csv"
   ]
  },
  {
   "cell_type": "code",
   "execution_count": null,
   "metadata": {
    "collapsed": false
   },
   "outputs": [],
   "source": [
    "import random\n",
    "random.seed(42)\n",
    "split = int(0.9*len(adjusted_titanic_csv))\n",
    "X_cols = adjusted_titanic_csv.columns[:-1]\n",
    "Y_cols = adjusted_titanic_csv.columns[-1:]\n",
    "X_train = adjusted_titanic_csv[X_cols][:split]\n",
    "Y_train = adjusted_titanic_csv[Y_cols][:split]\n",
    "X_test = adjusted_titanic_csv[X_cols][split:]\n",
    "Y_test = adjusted_titanic_csv[Y_cols][split:]\n",
    "\n",
    "X_train.describe().columns,Y_train.describe().columns, X_train.shape, Y_train.shape"
   ]
  },
  {
   "cell_type": "code",
   "execution_count": null,
   "metadata": {
    "collapsed": false
   },
   "outputs": [],
   "source": [
    "X_train = np.array(X_train)\n",
    "Y_train = np.array(Y_train)\n",
    "X_test = np.array(X_test)\n",
    "Y_test = np.array(Y_test)\n",
    "\n",
    "X_train.shape, Y_train.shape, X_test.shape, Y_test.shape"
   ]
  },
  {
   "cell_type": "code",
   "execution_count": null,
   "metadata": {
    "collapsed": false
   },
   "outputs": [],
   "source": [
    "from keras.layers.advanced_activations import LeakyReLU, PReLU\n",
    "model = Sequential()\n",
    "model.add(keras.layers.Dense(1024,input_shape=X_train.shape[1:], activation='linear'))\n",
    "model.add(LeakyReLU(alpha=.001))\n",
    "model.add(keras.layers.Dropout(0.35))\n",
    "model.add(keras.layers.Dense(1024, activation='linear'))\n",
    "model.add(LeakyReLU(alpha=.001))\n",
    "model.add(keras.layers.Dropout(0.3))\n",
    "model.add(keras.layers.Dense(2, activation=\"softmax\"))\n",
    "model.compile(loss='sparse_categorical_crossentropy', optimizer='adam')\n",
    "model.summary(), model.optimizer.lr.get_value()"
   ]
  },
  {
   "cell_type": "code",
   "execution_count": null,
   "metadata": {
    "collapsed": false
   },
   "outputs": [],
   "source": [
    "model.optimizer.lr.set_value(0.0001)"
   ]
  },
  {
   "cell_type": "code",
   "execution_count": null,
   "metadata": {
    "collapsed": false
   },
   "outputs": [],
   "source": [
    "model.fit(X_train, Y_train, nb_epoch=500, batch_size=1024, validation_data=(X_test, Y_test), verbose=2)"
   ]
  },
  {
   "cell_type": "code",
   "execution_count": null,
   "metadata": {
    "collapsed": false
   },
   "outputs": [],
   "source": [
    "titanic_csv_test = pandas.read_csv('data/titanic/test.csv')\n",
    "titanic_csv_test"
   ]
  },
  {
   "cell_type": "code",
   "execution_count": null,
   "metadata": {
    "collapsed": false
   },
   "outputs": [],
   "source": [
    "adjusted_titanic_csv_test = titanic_csv_test.copy()\n",
    "\n",
    "for i in xrange(0, len(adjusted_titanic_csv_test['Age'])):\n",
    "    if np.isnan(adjusted_titanic_csv_test.at[i,'Age']):\n",
    "        adjusted_titanic_csv_test.at[i,'Age'] = average_age\n",
    "        \n",
    "adjusted_titanic_csv_test = adjusted_titanic_csv_test[['Pclass','Sex','Age','SibSp','Parch','Fare','Embarked']]\n",
    "adjusted_titanic_csv_test['Sex'] = map(lambda x: 1 if x=='male' else 0, adjusted_titanic_csv_test['Sex'])\n",
    "\n",
    "adjusted_titanic_csv_test['Embarked'] = map(lambda x: embarkedConversion[x] if type(x)==str else 3, adjusted_titanic_csv_test['Embarked'])\n",
    "adjusted_titanic_csv_test[0:10]"
   ]
  },
  {
   "cell_type": "code",
   "execution_count": null,
   "metadata": {
    "collapsed": false
   },
   "outputs": [],
   "source": [
    "X_input = np.array(adjusted_titanic_csv_test)\n",
    "X_input.shape"
   ]
  },
  {
   "cell_type": "code",
   "execution_count": null,
   "metadata": {
    "collapsed": false
   },
   "outputs": [],
   "source": [
    "Y_output = model.predict(X_input)\n",
    "Y_output.shape, Y_output[:20]"
   ]
  },
  {
   "cell_type": "code",
   "execution_count": null,
   "metadata": {
    "collapsed": false
   },
   "outputs": [],
   "source": [
    "survivers = map(lambda x: 0 if x[0]>0.35 else 1, Y_output)\n",
    "survivers[:20], np.sum(survivers)/len(survivers)"
   ]
  },
  {
   "cell_type": "code",
   "execution_count": null,
   "metadata": {
    "collapsed": false
   },
   "outputs": [],
   "source": [
    "import time\n",
    "output = pd.DataFrame(columns=['PassengerId','Survived'])\n",
    "for i in xrange(len(survivers)):\n",
    "    output.loc[i] = (892+i, survivers[i])\n",
    "name = 'data/titanic/'+str(time.time())+'_dbuschho.csv'\n",
    "output.to_csv(name,index=False)\n",
    "print (name)\n",
    "output"
   ]
  }
 ],
 "metadata": {
  "anaconda-cloud": {},
  "kernelspec": {
   "display_name": "Python [conda root]",
   "language": "python",
   "name": "conda-root-py"
  },
  "language_info": {
   "codemirror_mode": {
    "name": "ipython",
    "version": 2
   },
   "file_extension": ".py",
   "mimetype": "text/x-python",
   "name": "python",
   "nbconvert_exporter": "python",
   "pygments_lexer": "ipython2",
   "version": "2.7.12"
  }
 },
 "nbformat": 4,
 "nbformat_minor": 1
}
